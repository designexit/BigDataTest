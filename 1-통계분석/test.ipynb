{
 "cells": [
  {
   "cell_type": "markdown",
   "metadata": {},
   "source": [
    "필요한 내용 메모 및 코드 작업 진행하기\n",
    "1) 기술통계, 회귀분석, 상관분석을 작업\n",
    "2) 히토그램, 파이차트, 산정도, 히트맵 등으로 시각화\n",
    "\n",
    "# 와인 품질 등급 예측하기\n",
    "## 와인 속성을 분석해서 품질 등급 예측\n",
    "### 데이터 수집, 레드와인, 화이트와인, 머신러닝 저장소 래포지토리 사이트 최근 확인 -> data가 not found -> 그래서 따로 다운받아 제공\n",
    "### 탐색, 정보확인 info()함수 이용예정\n",
    "\n",
    "### 기술 통계확인, describe() : 기본 평균, 분산, 편차, 최소, 최대 등 통계관련 데이터 간단히 요약\n",
    "### unique() :  중복제거, value_counts() : 해당 데이터의 갯수를 집계\n",
    "\n",
    "## 데이터 모델링 \n",
    "### 1) 데이터 두 그룹으로 비교 분석, \n",
    "### 2) t-검정, 두 그룹을 비교하는 분석, 라이브러리를 이용할 예정. scipy 패키지의 ttest_ind()\n",
    "### 3) 회귀분석, 라이브러리  statsmodels.formula.api , ols()\n",
    "\n",
    "### 등급 예측 \n",
    "### 샘플을 독립변수 (x) -> 회귀분석 모델 적용 -> 종속 변수(y) -> 품질 예측. "
   ]
  },
  {
   "cell_type": "code",
   "execution_count": null,
   "metadata": {},
   "outputs": [],
   "source": []
  },
  {
   "cell_type": "code",
   "execution_count": null,
   "metadata": {},
   "outputs": [],
   "source": []
  }
 ],
 "metadata": {
  "language_info": {
   "name": "python"
  }
 },
 "nbformat": 4,
 "nbformat_minor": 2
}
